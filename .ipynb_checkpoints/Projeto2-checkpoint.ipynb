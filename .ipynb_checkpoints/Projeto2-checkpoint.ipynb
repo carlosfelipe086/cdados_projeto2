{
 "cells": [
  {
   "cell_type": "markdown",
   "metadata": {},
   "source": [
    "# Projeto 2 - Ciência dos Dados"
   ]
  },
  {
   "cell_type": "markdown",
   "metadata": {},
   "source": [
    "Nome: Carlos Andrade Inacio\n",
    "\n",
    "Nome: Carlos Felipe Borges Mesquita"
   ]
  },
  {
   "cell_type": "code",
   "execution_count": 21,
   "metadata": {},
   "outputs": [],
   "source": [
    "#link da base de dados:\n",
    "# https://www.kaggle.com/daviddraper1518/predicting-student-grades"
   ]
  },
  {
   "cell_type": "markdown",
   "metadata": {},
   "source": [
    "___\n",
    "Carregando algumas bibliotecas:"
   ]
  },
  {
   "cell_type": "code",
   "execution_count": 3,
   "metadata": {},
   "outputs": [],
   "source": [
    "%matplotlib inline\n",
    "import pandas as pd\n",
    "import matplotlib.pyplot as plt\n",
    "import numpy as np\n",
    "import os\n",
    "from sklearn.model_selection import train_test_split\n",
    "import statsmodels.api as sm\n",
    "from sklearn.metrics import mean_squared_error\n",
    "\n",
    "from sklearn.ensemble import RandomForestRegressor\n",
    "random_forest = RandomForestRegressor() \n",
    "\n",
    "pd.options.mode.chained_assignment = None"
   ]
  },
  {
   "cell_type": "code",
   "execution_count": 4,
   "metadata": {
    "scrolled": false
   },
   "outputs": [
    {
     "name": "stdout",
     "output_type": "stream",
     "text": [
      "Esperamos trabalhar no diretório\n",
      "C:\\Users\\Cafeb\\OneDrive\\Documentos\\CDADOS\\cdados_projeto2\n"
     ]
    }
   ],
   "source": [
    "print('Esperamos trabalhar no diretório')\n",
    "print(os.getcwd())"
   ]
  },
  {
   "cell_type": "markdown",
   "metadata": {},
   "source": [
    "Carregando a base de dados"
   ]
  },
  {
   "cell_type": "code",
   "execution_count": 5,
   "metadata": {},
   "outputs": [],
   "source": [
    "filename = 'AllResults1.csv'"
   ]
  },
  {
   "cell_type": "code",
   "execution_count": 6,
   "metadata": {},
   "outputs": [
    {
     "data": {
      "text/html": [
       "<div>\n",
       "<style scoped>\n",
       "    .dataframe tbody tr th:only-of-type {\n",
       "        vertical-align: middle;\n",
       "    }\n",
       "\n",
       "    .dataframe tbody tr th {\n",
       "        vertical-align: top;\n",
       "    }\n",
       "\n",
       "    .dataframe thead th {\n",
       "        text-align: right;\n",
       "    }\n",
       "</style>\n",
       "<table border=\"1\" class=\"dataframe\">\n",
       "  <thead>\n",
       "    <tr style=\"text-align: right;\">\n",
       "      <th></th>\n",
       "      <th>PPID</th>\n",
       "      <th>PP</th>\n",
       "      <th>EAL</th>\n",
       "      <th>SEN</th>\n",
       "      <th>HML</th>\n",
       "      <th>Re</th>\n",
       "      <th>Wr</th>\n",
       "      <th>Ma</th>\n",
       "      <th>Att8Est</th>\n",
       "      <th>Att8Act</th>\n",
       "      <th>Att8Diff</th>\n",
       "      <th>EngEst</th>\n",
       "      <th>EngAct</th>\n",
       "      <th>EngDiff</th>\n",
       "      <th>MathsEst</th>\n",
       "      <th>MathsAct</th>\n",
       "      <th>MathsDiff</th>\n",
       "      <th>EbaccEst</th>\n",
       "      <th>EbaccAct</th>\n",
       "      <th>EbaccDiff</th>\n",
       "    </tr>\n",
       "  </thead>\n",
       "  <tbody>\n",
       "    <tr>\n",
       "      <th>0</th>\n",
       "      <td>617</td>\n",
       "      <td>1.0</td>\n",
       "      <td>0</td>\n",
       "      <td>0.0</td>\n",
       "      <td>NaN</td>\n",
       "      <td>NaN</td>\n",
       "      <td>NaN</td>\n",
       "      <td>NaN</td>\n",
       "      <td>NaN</td>\n",
       "      <td>1.9</td>\n",
       "      <td>NaN</td>\n",
       "      <td>NaN</td>\n",
       "      <td>1.5</td>\n",
       "      <td>NaN</td>\n",
       "      <td>NaN</td>\n",
       "      <td>2.0</td>\n",
       "      <td>NaN</td>\n",
       "      <td>NaN</td>\n",
       "      <td>0.0</td>\n",
       "      <td>NaN</td>\n",
       "    </tr>\n",
       "    <tr>\n",
       "      <th>1</th>\n",
       "      <td>283</td>\n",
       "      <td>1.0</td>\n",
       "      <td>1</td>\n",
       "      <td>0.0</td>\n",
       "      <td>NaN</td>\n",
       "      <td>NaN</td>\n",
       "      <td>NaN</td>\n",
       "      <td>NaN</td>\n",
       "      <td>NaN</td>\n",
       "      <td>4.3</td>\n",
       "      <td>NaN</td>\n",
       "      <td>NaN</td>\n",
       "      <td>3.0</td>\n",
       "      <td>NaN</td>\n",
       "      <td>NaN</td>\n",
       "      <td>5.5</td>\n",
       "      <td>NaN</td>\n",
       "      <td>NaN</td>\n",
       "      <td>3.7</td>\n",
       "      <td>NaN</td>\n",
       "    </tr>\n",
       "    <tr>\n",
       "      <th>2</th>\n",
       "      <td>75</td>\n",
       "      <td>0.0</td>\n",
       "      <td>0</td>\n",
       "      <td>0.0</td>\n",
       "      <td>M</td>\n",
       "      <td>NaN</td>\n",
       "      <td>NaN</td>\n",
       "      <td>3</td>\n",
       "      <td>2.9</td>\n",
       "      <td>4.1</td>\n",
       "      <td>1.17</td>\n",
       "      <td>3.5</td>\n",
       "      <td>4.0</td>\n",
       "      <td>0.54</td>\n",
       "      <td>2.9</td>\n",
       "      <td>4.0</td>\n",
       "      <td>1.13</td>\n",
       "      <td>1.9</td>\n",
       "      <td>1.3</td>\n",
       "      <td>-0.57</td>\n",
       "    </tr>\n",
       "    <tr>\n",
       "      <th>3</th>\n",
       "      <td>1019</td>\n",
       "      <td>1.0</td>\n",
       "      <td>0</td>\n",
       "      <td>0.0</td>\n",
       "      <td>L</td>\n",
       "      <td>NaN</td>\n",
       "      <td>NaN</td>\n",
       "      <td>3</td>\n",
       "      <td>2.2</td>\n",
       "      <td>3.5</td>\n",
       "      <td>1.26</td>\n",
       "      <td>2.8</td>\n",
       "      <td>4.0</td>\n",
       "      <td>1.18</td>\n",
       "      <td>2.0</td>\n",
       "      <td>3.0</td>\n",
       "      <td>0.98</td>\n",
       "      <td>1.2</td>\n",
       "      <td>2.0</td>\n",
       "      <td>0.84</td>\n",
       "    </tr>\n",
       "    <tr>\n",
       "      <th>4</th>\n",
       "      <td>474</td>\n",
       "      <td>0.0</td>\n",
       "      <td>0</td>\n",
       "      <td>0.0</td>\n",
       "      <td>L</td>\n",
       "      <td>3C</td>\n",
       "      <td>3B</td>\n",
       "      <td>N</td>\n",
       "      <td>1.7</td>\n",
       "      <td>2.9</td>\n",
       "      <td>1.21</td>\n",
       "      <td>2.2</td>\n",
       "      <td>3.0</td>\n",
       "      <td>0.76</td>\n",
       "      <td>1.3</td>\n",
       "      <td>3.0</td>\n",
       "      <td>1.65</td>\n",
       "      <td>0.7</td>\n",
       "      <td>2.0</td>\n",
       "      <td>1.28</td>\n",
       "    </tr>\n",
       "    <tr>\n",
       "      <th>...</th>\n",
       "      <td>...</td>\n",
       "      <td>...</td>\n",
       "      <td>...</td>\n",
       "      <td>...</td>\n",
       "      <td>...</td>\n",
       "      <td>...</td>\n",
       "      <td>...</td>\n",
       "      <td>...</td>\n",
       "      <td>...</td>\n",
       "      <td>...</td>\n",
       "      <td>...</td>\n",
       "      <td>...</td>\n",
       "      <td>...</td>\n",
       "      <td>...</td>\n",
       "      <td>...</td>\n",
       "      <td>...</td>\n",
       "      <td>...</td>\n",
       "      <td>...</td>\n",
       "      <td>...</td>\n",
       "      <td>...</td>\n",
       "    </tr>\n",
       "    <tr>\n",
       "      <th>1032</th>\n",
       "      <td>174</td>\n",
       "      <td>1.0</td>\n",
       "      <td>0</td>\n",
       "      <td>0.0</td>\n",
       "      <td>M</td>\n",
       "      <td>4B</td>\n",
       "      <td>4</td>\n",
       "      <td>4B</td>\n",
       "      <td>3.9</td>\n",
       "      <td>5.0</td>\n",
       "      <td>1.08</td>\n",
       "      <td>4.3</td>\n",
       "      <td>6.0</td>\n",
       "      <td>1.67</td>\n",
       "      <td>3.6</td>\n",
       "      <td>4.0</td>\n",
       "      <td>0.36</td>\n",
       "      <td>3.5</td>\n",
       "      <td>4.3</td>\n",
       "      <td>0.82</td>\n",
       "    </tr>\n",
       "    <tr>\n",
       "      <th>1033</th>\n",
       "      <td>812</td>\n",
       "      <td>1.0</td>\n",
       "      <td>0</td>\n",
       "      <td>0.0</td>\n",
       "      <td>M</td>\n",
       "      <td>5B</td>\n",
       "      <td>3</td>\n",
       "      <td>4C</td>\n",
       "      <td>4.3</td>\n",
       "      <td>3.1</td>\n",
       "      <td>-1.18</td>\n",
       "      <td>4.7</td>\n",
       "      <td>3.0</td>\n",
       "      <td>-1.71</td>\n",
       "      <td>4.1</td>\n",
       "      <td>3.0</td>\n",
       "      <td>-1.08</td>\n",
       "      <td>4.0</td>\n",
       "      <td>3.0</td>\n",
       "      <td>-0.97</td>\n",
       "    </tr>\n",
       "    <tr>\n",
       "      <th>1034</th>\n",
       "      <td>425</td>\n",
       "      <td>1.0</td>\n",
       "      <td>0</td>\n",
       "      <td>1.0</td>\n",
       "      <td>H</td>\n",
       "      <td>5B</td>\n",
       "      <td>4</td>\n",
       "      <td>5C</td>\n",
       "      <td>5.5</td>\n",
       "      <td>5.2</td>\n",
       "      <td>-0.30</td>\n",
       "      <td>5.8</td>\n",
       "      <td>6.0</td>\n",
       "      <td>0.20</td>\n",
       "      <td>5.4</td>\n",
       "      <td>4.0</td>\n",
       "      <td>-1.44</td>\n",
       "      <td>5.4</td>\n",
       "      <td>5.3</td>\n",
       "      <td>-0.05</td>\n",
       "    </tr>\n",
       "    <tr>\n",
       "      <th>1035</th>\n",
       "      <td>376</td>\n",
       "      <td>1.0</td>\n",
       "      <td>0</td>\n",
       "      <td>0.0</td>\n",
       "      <td>M</td>\n",
       "      <td>5C</td>\n",
       "      <td>4</td>\n",
       "      <td>4B</td>\n",
       "      <td>4.7</td>\n",
       "      <td>1.7</td>\n",
       "      <td>-3.03</td>\n",
       "      <td>5.1</td>\n",
       "      <td>4.0</td>\n",
       "      <td>-1.13</td>\n",
       "      <td>4.6</td>\n",
       "      <td>3.0</td>\n",
       "      <td>-1.58</td>\n",
       "      <td>4.5</td>\n",
       "      <td>1.0</td>\n",
       "      <td>-3.49</td>\n",
       "    </tr>\n",
       "    <tr>\n",
       "      <th>1036</th>\n",
       "      <td>11</td>\n",
       "      <td>0.0</td>\n",
       "      <td>0</td>\n",
       "      <td>0.0</td>\n",
       "      <td>M</td>\n",
       "      <td>4B</td>\n",
       "      <td>4</td>\n",
       "      <td>4C</td>\n",
       "      <td>3.7</td>\n",
       "      <td>3.6</td>\n",
       "      <td>-0.09</td>\n",
       "      <td>4.2</td>\n",
       "      <td>5.0</td>\n",
       "      <td>0.83</td>\n",
       "      <td>3.4</td>\n",
       "      <td>3.0</td>\n",
       "      <td>-0.44</td>\n",
       "      <td>3.3</td>\n",
       "      <td>2.3</td>\n",
       "      <td>-0.98</td>\n",
       "    </tr>\n",
       "  </tbody>\n",
       "</table>\n",
       "<p>1037 rows × 20 columns</p>\n",
       "</div>"
      ],
      "text/plain": [
       "      PPID   PP  EAL  SEN  HML   Re   Wr   Ma  Att8Est  Att8Act  Att8Diff  \\\n",
       "0      617  1.0    0  0.0  NaN  NaN  NaN  NaN      NaN      1.9       NaN   \n",
       "1      283  1.0    1  0.0  NaN  NaN  NaN  NaN      NaN      4.3       NaN   \n",
       "2       75  0.0    0  0.0    M  NaN  NaN    3      2.9      4.1      1.17   \n",
       "3     1019  1.0    0  0.0    L  NaN  NaN    3      2.2      3.5      1.26   \n",
       "4      474  0.0    0  0.0    L   3C   3B    N      1.7      2.9      1.21   \n",
       "...    ...  ...  ...  ...  ...  ...  ...  ...      ...      ...       ...   \n",
       "1032   174  1.0    0  0.0    M   4B    4   4B      3.9      5.0      1.08   \n",
       "1033   812  1.0    0  0.0    M   5B    3   4C      4.3      3.1     -1.18   \n",
       "1034   425  1.0    0  1.0    H   5B    4   5C      5.5      5.2     -0.30   \n",
       "1035   376  1.0    0  0.0    M   5C    4   4B      4.7      1.7     -3.03   \n",
       "1036    11  0.0    0  0.0    M   4B    4   4C      3.7      3.6     -0.09   \n",
       "\n",
       "      EngEst  EngAct  EngDiff  MathsEst  MathsAct  MathsDiff  EbaccEst  \\\n",
       "0        NaN     1.5      NaN       NaN       2.0        NaN       NaN   \n",
       "1        NaN     3.0      NaN       NaN       5.5        NaN       NaN   \n",
       "2        3.5     4.0     0.54       2.9       4.0       1.13       1.9   \n",
       "3        2.8     4.0     1.18       2.0       3.0       0.98       1.2   \n",
       "4        2.2     3.0     0.76       1.3       3.0       1.65       0.7   \n",
       "...      ...     ...      ...       ...       ...        ...       ...   \n",
       "1032     4.3     6.0     1.67       3.6       4.0       0.36       3.5   \n",
       "1033     4.7     3.0    -1.71       4.1       3.0      -1.08       4.0   \n",
       "1034     5.8     6.0     0.20       5.4       4.0      -1.44       5.4   \n",
       "1035     5.1     4.0    -1.13       4.6       3.0      -1.58       4.5   \n",
       "1036     4.2     5.0     0.83       3.4       3.0      -0.44       3.3   \n",
       "\n",
       "      EbaccAct  EbaccDiff  \n",
       "0          0.0        NaN  \n",
       "1          3.7        NaN  \n",
       "2          1.3      -0.57  \n",
       "3          2.0       0.84  \n",
       "4          2.0       1.28  \n",
       "...        ...        ...  \n",
       "1032       4.3       0.82  \n",
       "1033       3.0      -0.97  \n",
       "1034       5.3      -0.05  \n",
       "1035       1.0      -3.49  \n",
       "1036       2.3      -0.98  \n",
       "\n",
       "[1037 rows x 20 columns]"
      ]
     },
     "execution_count": 6,
     "metadata": {},
     "output_type": "execute_result"
    }
   ],
   "source": [
    "train = pd.read_csv(filename)\n",
    "train"
   ]
  },
  {
   "cell_type": "code",
   "execution_count": 7,
   "metadata": {},
   "outputs": [
    {
     "data": {
      "text/html": [
       "<div>\n",
       "<style scoped>\n",
       "    .dataframe tbody tr th:only-of-type {\n",
       "        vertical-align: middle;\n",
       "    }\n",
       "\n",
       "    .dataframe tbody tr th {\n",
       "        vertical-align: top;\n",
       "    }\n",
       "\n",
       "    .dataframe thead th {\n",
       "        text-align: right;\n",
       "    }\n",
       "</style>\n",
       "<table border=\"1\" class=\"dataframe\">\n",
       "  <thead>\n",
       "    <tr style=\"text-align: right;\">\n",
       "      <th></th>\n",
       "      <th>PP</th>\n",
       "      <th>EAL</th>\n",
       "      <th>SEN</th>\n",
       "      <th>HML</th>\n",
       "      <th>Re</th>\n",
       "      <th>Wr</th>\n",
       "      <th>Ma</th>\n",
       "    </tr>\n",
       "  </thead>\n",
       "  <tbody>\n",
       "    <tr>\n",
       "      <th>0</th>\n",
       "      <td>1.0</td>\n",
       "      <td>0</td>\n",
       "      <td>0.0</td>\n",
       "      <td>NaN</td>\n",
       "      <td>NaN</td>\n",
       "      <td>NaN</td>\n",
       "      <td>NaN</td>\n",
       "    </tr>\n",
       "    <tr>\n",
       "      <th>1</th>\n",
       "      <td>1.0</td>\n",
       "      <td>1</td>\n",
       "      <td>0.0</td>\n",
       "      <td>NaN</td>\n",
       "      <td>NaN</td>\n",
       "      <td>NaN</td>\n",
       "      <td>NaN</td>\n",
       "    </tr>\n",
       "    <tr>\n",
       "      <th>2</th>\n",
       "      <td>0.0</td>\n",
       "      <td>0</td>\n",
       "      <td>0.0</td>\n",
       "      <td>M</td>\n",
       "      <td>NaN</td>\n",
       "      <td>NaN</td>\n",
       "      <td>3</td>\n",
       "    </tr>\n",
       "    <tr>\n",
       "      <th>3</th>\n",
       "      <td>1.0</td>\n",
       "      <td>0</td>\n",
       "      <td>0.0</td>\n",
       "      <td>L</td>\n",
       "      <td>NaN</td>\n",
       "      <td>NaN</td>\n",
       "      <td>3</td>\n",
       "    </tr>\n",
       "    <tr>\n",
       "      <th>4</th>\n",
       "      <td>0.0</td>\n",
       "      <td>0</td>\n",
       "      <td>0.0</td>\n",
       "      <td>L</td>\n",
       "      <td>3C</td>\n",
       "      <td>3B</td>\n",
       "      <td>N</td>\n",
       "    </tr>\n",
       "    <tr>\n",
       "      <th>...</th>\n",
       "      <td>...</td>\n",
       "      <td>...</td>\n",
       "      <td>...</td>\n",
       "      <td>...</td>\n",
       "      <td>...</td>\n",
       "      <td>...</td>\n",
       "      <td>...</td>\n",
       "    </tr>\n",
       "    <tr>\n",
       "      <th>1032</th>\n",
       "      <td>1.0</td>\n",
       "      <td>0</td>\n",
       "      <td>0.0</td>\n",
       "      <td>M</td>\n",
       "      <td>4B</td>\n",
       "      <td>4</td>\n",
       "      <td>4B</td>\n",
       "    </tr>\n",
       "    <tr>\n",
       "      <th>1033</th>\n",
       "      <td>1.0</td>\n",
       "      <td>0</td>\n",
       "      <td>0.0</td>\n",
       "      <td>M</td>\n",
       "      <td>5B</td>\n",
       "      <td>3</td>\n",
       "      <td>4C</td>\n",
       "    </tr>\n",
       "    <tr>\n",
       "      <th>1034</th>\n",
       "      <td>1.0</td>\n",
       "      <td>0</td>\n",
       "      <td>1.0</td>\n",
       "      <td>H</td>\n",
       "      <td>5B</td>\n",
       "      <td>4</td>\n",
       "      <td>5C</td>\n",
       "    </tr>\n",
       "    <tr>\n",
       "      <th>1035</th>\n",
       "      <td>1.0</td>\n",
       "      <td>0</td>\n",
       "      <td>0.0</td>\n",
       "      <td>M</td>\n",
       "      <td>5C</td>\n",
       "      <td>4</td>\n",
       "      <td>4B</td>\n",
       "    </tr>\n",
       "    <tr>\n",
       "      <th>1036</th>\n",
       "      <td>0.0</td>\n",
       "      <td>0</td>\n",
       "      <td>0.0</td>\n",
       "      <td>M</td>\n",
       "      <td>4B</td>\n",
       "      <td>4</td>\n",
       "      <td>4C</td>\n",
       "    </tr>\n",
       "  </tbody>\n",
       "</table>\n",
       "<p>1037 rows × 7 columns</p>\n",
       "</div>"
      ],
      "text/plain": [
       "       PP  EAL  SEN  HML   Re   Wr   Ma\n",
       "0     1.0    0  0.0  NaN  NaN  NaN  NaN\n",
       "1     1.0    1  0.0  NaN  NaN  NaN  NaN\n",
       "2     0.0    0  0.0    M  NaN  NaN    3\n",
       "3     1.0    0  0.0    L  NaN  NaN    3\n",
       "4     0.0    0  0.0    L   3C   3B    N\n",
       "...   ...  ...  ...  ...  ...  ...  ...\n",
       "1032  1.0    0  0.0    M   4B    4   4B\n",
       "1033  1.0    0  0.0    M   5B    3   4C\n",
       "1034  1.0    0  1.0    H   5B    4   5C\n",
       "1035  1.0    0  0.0    M   5C    4   4B\n",
       "1036  0.0    0  0.0    M   4B    4   4C\n",
       "\n",
       "[1037 rows x 7 columns]"
      ]
     },
     "execution_count": 7,
     "metadata": {},
     "output_type": "execute_result"
    }
   ],
   "source": [
    "train = train.drop(columns=['PPID','Att8Est','Att8Act','Att8Diff','EngEst','EngAct','EngDiff','MathsEst','MathsAct','MathsDiff','EbaccEst','EbaccAct','EbaccDiff'])\n",
    "train"
   ]
  },
  {
   "cell_type": "markdown",
   "metadata": {},
   "source": [
    "#### A base de dados que iremos trabalhar apresenta as notas e características de alunos em uma escola no Reino Unido. Dentre todas as características (logo abaixo, há a explicação do que é cada uma), nós escolhemos a HML que diz respeito as habilidades analisadas em anos anteriores dos alunos, para responder a seguinte pergunta:\n",
    "#### O desempenho em anos dos anteriores na escola, influencia na sua média atual na escola?"
   ]
  },
  {
   "cell_type": "markdown",
   "metadata": {},
   "source": [
    "#### O que cada legenda significa"
   ]
  },
  {
   "cell_type": "code",
   "execution_count": 8,
   "metadata": {},
   "outputs": [],
   "source": [
    "# PP = Pupil Premium - The pupil premium is additional funding for publicly funded schools in England.\n",
    "# EAL = English as an additional language\n",
    "# SEN = Special Education Needs (True or False)\n",
    "# HML = Ability based on previous Data (Higher, Middle, Lower)\n",
    "# Re = Reading Grade from age 10\n",
    "# Wr = Writing Grade from age 10\n",
    "# Ma = Maths Grade from age 10"
   ]
  },
  {
   "cell_type": "markdown",
   "metadata": {},
   "source": [
    "#### Transformação dos dados"
   ]
  },
  {
   "cell_type": "code",
   "execution_count": 9,
   "metadata": {},
   "outputs": [],
   "source": [
    "# numerificação das notas \n",
    "# https://www.northoxfordshire-academy.org/Portals/0/Letters%20Sent%20Home/Target%20Setting%20Year%2011%20Explained%202016%2017.pdf?ver=2016-10-31-144606-610\n",
    "grades = {'N' : '0', 'B' : '5', '3C' : '4', '3B' : '4', '3A' : '4', '4C' : '5', '4B' : '5', '4A' : '6', '5C' : '7', '5B' : '8', '5A' : '8', '6C' : '8', '6B' : '9', '6A' : '10'}\n",
    "\n",
    "df = train\n",
    "\n",
    "def update_grades(column, dataframe):\n",
    "    for k, v in enumerate(dataframe[column]):\n",
    "        if v in grades.keys():\n",
    "            dataframe[column][k] = grades[v]\n",
    "\n",
    "def update_average(dataframe, index):\n",
    "    count = 0\n",
    "    average = 0\n",
    "    Re = -1 if pd.isna(dataframe['Re'][index]) else int(dataframe['Re'][index])\n",
    "    Wr = -1 if pd.isna(dataframe['Wr'][index]) else int(dataframe['Wr'][index])\n",
    "    Ma = -1 if pd.isna(dataframe['Ma'][index]) else int(dataframe['Ma'][index])\n",
    "\n",
    "    if Re >= 0:\n",
    "        count += 1\n",
    "        average += Re\n",
    "    if Wr >= 0:\n",
    "        count += 1\n",
    "        average += Wr\n",
    "    if Ma >= 0:\n",
    "        count += 1\n",
    "        average += Ma\n",
    "\n",
    "    if count > 0:\n",
    "        average /= count\n",
    "    \n",
    "    return average\n",
    "            \n",
    "update_grades('Re', df)\n",
    "update_grades('Wr', df)\n",
    "update_grades('Ma', df)\n",
    "\n",
    "\n",
    "def cleanup_nans(dataframe, columns):\n",
    "    # não é razoável assumir o nível do aluno (então removeremos essa linha caso o HML seja NaN)\n",
    "    dataframe.dropna(subset=('HML',), inplace=True)\n",
    "    \n",
    "    # para todas as outras colunas é razoável assumir os valores de NaN como 0\n",
    "    # embora não transformaremos os NaNs nas notas, somente as ignoraremos e faremos a média com os valores existentes\n",
    "    dataframe.fillna(0, inplace=True)\n",
    "\n",
    "#transformando os valores da coluna HML\n",
    "# H(Higher) = 2 -- M(Middle) = 1 -- L(Lower) = 0\n",
    "hml = {'L' : 0, 'M' : 1, 'H' : 2}\n",
    "for k, v in enumerate(df['HML']):\n",
    "    if v in hml.keys():\n",
    "        df['HML'][k] = hml[v]\n",
    "\n",
    "# criar coluna de média\n",
    "average = []\n",
    "for i in range(len(df['Re'])):\n",
    "    average.append(update_average(df, i))\n",
    "\n",
    "df['AVG'] = average\n",
    "\n",
    "cleanup_nans(df, ['PP', 'EAL', 'SEN'])"
   ]
  },
  {
   "cell_type": "markdown",
   "metadata": {},
   "source": [
    "Primeiramente, nós transformamos as notas de Leitura, Escrita e Matemática em valores numéricos através de um dicionário e algumas referências onlines (ainda tivemos que estimar alguns valores)\n",
    "\n",
    "Então, criamos uma coluna de média com base nas médias das notas válidas (se o valor de alguma nota fosse NaN, ela era descartada do cálculo da média)\n",
    "\n",
    "Nós também tiramos todas as colunas em que o nível do aluno era NaN, pois não é seguro assumir que o nível do aluno era baixo se este não foi informado.\n",
    "\n",
    "Para os valores de PP, EAL e SEN, nós substituimos os NaNs por 0. Essa transformação faz sentido pois com estes valores é seguro dizer que, caso estes valores não tenham sido informados, eles não eram maiores do 0 (por exemplo, se o SEN do aluno não for informado, podemos assumir que ele não é um aluno de necessidades especiais)."
   ]
  },
  {
   "cell_type": "markdown",
   "metadata": {},
   "source": [
    "### Com essas mudanças já feitas, agora vamos responder a pergunta inicial"
   ]
  },
  {
   "cell_type": "code",
   "execution_count": 10,
   "metadata": {},
   "outputs": [
    {
     "name": "stdout",
     "output_type": "stream",
     "text": [
      "A correlação entre o PP e a média das notas é negativa, o que indica que se o aluno pagar o financiamento adicional, a média de notas dele é menor.\n"
     ]
    },
    {
     "data": {
      "text/html": [
       "<div>\n",
       "<style scoped>\n",
       "    .dataframe tbody tr th:only-of-type {\n",
       "        vertical-align: middle;\n",
       "    }\n",
       "\n",
       "    .dataframe tbody tr th {\n",
       "        vertical-align: top;\n",
       "    }\n",
       "\n",
       "    .dataframe thead th {\n",
       "        text-align: right;\n",
       "    }\n",
       "</style>\n",
       "<table border=\"1\" class=\"dataframe\">\n",
       "  <thead>\n",
       "    <tr style=\"text-align: right;\">\n",
       "      <th></th>\n",
       "      <th>PP</th>\n",
       "      <th>AVG</th>\n",
       "    </tr>\n",
       "  </thead>\n",
       "  <tbody>\n",
       "    <tr>\n",
       "      <th>PP</th>\n",
       "      <td>1.000000</td>\n",
       "      <td>-0.146918</td>\n",
       "    </tr>\n",
       "    <tr>\n",
       "      <th>AVG</th>\n",
       "      <td>-0.146918</td>\n",
       "      <td>1.000000</td>\n",
       "    </tr>\n",
       "  </tbody>\n",
       "</table>\n",
       "</div>"
      ],
      "text/plain": [
       "           PP       AVG\n",
       "PP   1.000000 -0.146918\n",
       "AVG -0.146918  1.000000"
      ]
     },
     "execution_count": 10,
     "metadata": {},
     "output_type": "execute_result"
    }
   ],
   "source": [
    "# correlação média com PP\n",
    "pp_avg = df.loc[:,[\"PP\", \"AVG\"]]\n",
    "corr = pp_avg.corr()\n",
    "\n",
    "print('A correlação entre o PP e a média das notas é negativa, o que indica que se o aluno pagar o financiamento adicional, a média de notas dele é menor.')\n",
    "corr"
   ]
  },
  {
   "cell_type": "code",
   "execution_count": 11,
   "metadata": {},
   "outputs": [
    {
     "name": "stdout",
     "output_type": "stream",
     "text": [
      "A correlação entre o EAL e a média das notas é negativa, o que indica que se o inglês não for a linguagem nativa do estudante, suas notas são mais baixas.\n"
     ]
    },
    {
     "data": {
      "text/html": [
       "<div>\n",
       "<style scoped>\n",
       "    .dataframe tbody tr th:only-of-type {\n",
       "        vertical-align: middle;\n",
       "    }\n",
       "\n",
       "    .dataframe tbody tr th {\n",
       "        vertical-align: top;\n",
       "    }\n",
       "\n",
       "    .dataframe thead th {\n",
       "        text-align: right;\n",
       "    }\n",
       "</style>\n",
       "<table border=\"1\" class=\"dataframe\">\n",
       "  <thead>\n",
       "    <tr style=\"text-align: right;\">\n",
       "      <th></th>\n",
       "      <th>EAL</th>\n",
       "      <th>AVG</th>\n",
       "    </tr>\n",
       "  </thead>\n",
       "  <tbody>\n",
       "    <tr>\n",
       "      <th>EAL</th>\n",
       "      <td>1.000000</td>\n",
       "      <td>-0.062834</td>\n",
       "    </tr>\n",
       "    <tr>\n",
       "      <th>AVG</th>\n",
       "      <td>-0.062834</td>\n",
       "      <td>1.000000</td>\n",
       "    </tr>\n",
       "  </tbody>\n",
       "</table>\n",
       "</div>"
      ],
      "text/plain": [
       "          EAL       AVG\n",
       "EAL  1.000000 -0.062834\n",
       "AVG -0.062834  1.000000"
      ]
     },
     "execution_count": 11,
     "metadata": {},
     "output_type": "execute_result"
    }
   ],
   "source": [
    "# correlação média com EAL\n",
    "eal_avg = df.loc[:,[\"EAL\", \"AVG\"]]\n",
    "corr = eal_avg.corr()\n",
    "\n",
    "print('A correlação entre o EAL e a média das notas é negativa, o que indica que se o inglês não for a linguagem nativa do estudante, suas notas são mais baixas.')\n",
    "corr"
   ]
  },
  {
   "cell_type": "code",
   "execution_count": 12,
   "metadata": {},
   "outputs": [
    {
     "name": "stdout",
     "output_type": "stream",
     "text": [
      "A correlação entre o SEN e a média das notas é negativa, o que indica que se o aluno tiver necessidades especiais, suas notas são menores.\n"
     ]
    },
    {
     "data": {
      "text/html": [
       "<div>\n",
       "<style scoped>\n",
       "    .dataframe tbody tr th:only-of-type {\n",
       "        vertical-align: middle;\n",
       "    }\n",
       "\n",
       "    .dataframe tbody tr th {\n",
       "        vertical-align: top;\n",
       "    }\n",
       "\n",
       "    .dataframe thead th {\n",
       "        text-align: right;\n",
       "    }\n",
       "</style>\n",
       "<table border=\"1\" class=\"dataframe\">\n",
       "  <thead>\n",
       "    <tr style=\"text-align: right;\">\n",
       "      <th></th>\n",
       "      <th>SEN</th>\n",
       "      <th>AVG</th>\n",
       "    </tr>\n",
       "  </thead>\n",
       "  <tbody>\n",
       "    <tr>\n",
       "      <th>SEN</th>\n",
       "      <td>1.000000</td>\n",
       "      <td>-0.218486</td>\n",
       "    </tr>\n",
       "    <tr>\n",
       "      <th>AVG</th>\n",
       "      <td>-0.218486</td>\n",
       "      <td>1.000000</td>\n",
       "    </tr>\n",
       "  </tbody>\n",
       "</table>\n",
       "</div>"
      ],
      "text/plain": [
       "          SEN       AVG\n",
       "SEN  1.000000 -0.218486\n",
       "AVG -0.218486  1.000000"
      ]
     },
     "execution_count": 12,
     "metadata": {},
     "output_type": "execute_result"
    }
   ],
   "source": [
    "# correlação média com SEN\n",
    "sen_avg = df.loc[:,[\"SEN\", \"AVG\"]]\n",
    "corr = sen_avg.corr()\n",
    "\n",
    "print('A correlação entre o SEN e a média das notas é negativa, o que indica que se o aluno tiver necessidades especiais, suas notas são menores.')\n",
    "corr"
   ]
  },
  {
   "cell_type": "markdown",
   "metadata": {},
   "source": [
    "#### Agora vamos separar o código em duas bases, aplicar as técnicas de Regressao linear múltipla e Random forest regression, e fazer a predição."
   ]
  },
  {
   "cell_type": "code",
   "execution_count": 13,
   "metadata": {},
   "outputs": [],
   "source": [
    "df_treino = train_test_split(df, shuffle=False)[0]\n",
    "df_teste = train_test_split(df, shuffle=False)[1]"
   ]
  },
  {
   "cell_type": "markdown",
   "metadata": {},
   "source": [
    "Separamos o nosso dataframe filtrado e manipulado em 2: um dataset de teste e outro de treinamento (o de treinamento sendo claramente maior)"
   ]
  },
  {
   "cell_type": "markdown",
   "metadata": {},
   "source": [
    "#### Agora a faremos a regressao linear múltipla"
   ]
  },
  {
   "cell_type": "code",
   "execution_count": 32,
   "metadata": {},
   "outputs": [
    {
     "data": {
      "text/html": [
       "<table class=\"simpletable\">\n",
       "<caption>OLS Regression Results</caption>\n",
       "<tr>\n",
       "  <th>Dep. Variable:</th>           <td>AVG</td>       <th>  R-squared:         </th> <td>   0.569</td> \n",
       "</tr>\n",
       "<tr>\n",
       "  <th>Model:</th>                   <td>OLS</td>       <th>  Adj. R-squared:    </th> <td>   0.568</td> \n",
       "</tr>\n",
       "<tr>\n",
       "  <th>Method:</th>             <td>Least Squares</td>  <th>  F-statistic:       </th> <td>   487.4</td> \n",
       "</tr>\n",
       "<tr>\n",
       "  <th>Date:</th>             <td>Tue, 08 Jun 2021</td> <th>  Prob (F-statistic):</th> <td>1.37e-135</td>\n",
       "</tr>\n",
       "<tr>\n",
       "  <th>Time:</th>                 <td>14:51:08</td>     <th>  Log-Likelihood:    </th> <td> -877.13</td> \n",
       "</tr>\n",
       "<tr>\n",
       "  <th>No. Observations:</th>      <td>   740</td>      <th>  AIC:               </th> <td>   1760.</td> \n",
       "</tr>\n",
       "<tr>\n",
       "  <th>Df Residuals:</th>          <td>   737</td>      <th>  BIC:               </th> <td>   1774.</td> \n",
       "</tr>\n",
       "<tr>\n",
       "  <th>Df Model:</th>              <td>     2</td>      <th>                     </th>     <td> </td>    \n",
       "</tr>\n",
       "<tr>\n",
       "  <th>Covariance Type:</th>      <td>nonrobust</td>    <th>                     </th>     <td> </td>    \n",
       "</tr>\n",
       "</table>\n",
       "<table class=\"simpletable\">\n",
       "<tr>\n",
       "      <td></td>         <th>coef</th>     <th>std err</th>      <th>t</th>      <th>P>|t|</th>  <th>[0.025</th>    <th>0.975]</th>  \n",
       "</tr>\n",
       "<tr>\n",
       "  <th>Intercept</th> <td>    3.8255</td> <td>    0.062</td> <td>   61.720</td> <td> 0.000</td> <td>    3.704</td> <td>    3.947</td>\n",
       "</tr>\n",
       "<tr>\n",
       "  <th>HML</th>       <td>    1.3797</td> <td>    0.045</td> <td>   30.500</td> <td> 0.000</td> <td>    1.291</td> <td>    1.468</td>\n",
       "</tr>\n",
       "<tr>\n",
       "  <th>PP</th>        <td>   -0.1204</td> <td>    0.063</td> <td>   -1.914</td> <td> 0.056</td> <td>   -0.244</td> <td>    0.003</td>\n",
       "</tr>\n",
       "</table>\n",
       "<table class=\"simpletable\">\n",
       "<tr>\n",
       "  <th>Omnibus:</th>       <td>135.090</td> <th>  Durbin-Watson:     </th> <td>   1.976</td>\n",
       "</tr>\n",
       "<tr>\n",
       "  <th>Prob(Omnibus):</th> <td> 0.000</td>  <th>  Jarque-Bera (JB):  </th> <td> 283.943</td>\n",
       "</tr>\n",
       "<tr>\n",
       "  <th>Skew:</th>          <td>-1.016</td>  <th>  Prob(JB):          </th> <td>2.20e-62</td>\n",
       "</tr>\n",
       "<tr>\n",
       "  <th>Kurtosis:</th>      <td> 5.253</td>  <th>  Cond. No.          </th> <td>    4.34</td>\n",
       "</tr>\n",
       "</table><br/><br/>Warnings:<br/>[1] Standard Errors assume that the covariance matrix of the errors is correctly specified."
      ],
      "text/plain": [
       "<class 'statsmodels.iolib.summary.Summary'>\n",
       "\"\"\"\n",
       "                            OLS Regression Results                            \n",
       "==============================================================================\n",
       "Dep. Variable:                    AVG   R-squared:                       0.569\n",
       "Model:                            OLS   Adj. R-squared:                  0.568\n",
       "Method:                 Least Squares   F-statistic:                     487.4\n",
       "Date:                Tue, 08 Jun 2021   Prob (F-statistic):          1.37e-135\n",
       "Time:                        14:51:08   Log-Likelihood:                -877.13\n",
       "No. Observations:                 740   AIC:                             1760.\n",
       "Df Residuals:                     737   BIC:                             1774.\n",
       "Df Model:                           2                                         \n",
       "Covariance Type:            nonrobust                                         \n",
       "==============================================================================\n",
       "                 coef    std err          t      P>|t|      [0.025      0.975]\n",
       "------------------------------------------------------------------------------\n",
       "Intercept      3.8255      0.062     61.720      0.000       3.704       3.947\n",
       "HML            1.3797      0.045     30.500      0.000       1.291       1.468\n",
       "PP            -0.1204      0.063     -1.914      0.056      -0.244       0.003\n",
       "==============================================================================\n",
       "Omnibus:                      135.090   Durbin-Watson:                   1.976\n",
       "Prob(Omnibus):                  0.000   Jarque-Bera (JB):              283.943\n",
       "Skew:                          -1.016   Prob(JB):                     2.20e-62\n",
       "Kurtosis:                       5.253   Cond. No.                         4.34\n",
       "==============================================================================\n",
       "\n",
       "Warnings:\n",
       "[1] Standard Errors assume that the covariance matrix of the errors is correctly specified.\n",
       "\"\"\""
      ]
     },
     "execution_count": 32,
     "metadata": {},
     "output_type": "execute_result"
    }
   ],
   "source": [
    "# Regressao linear\n",
    "import statsmodels.formula.api as smf\n",
    "reg = smf.ols(formula='AVG~HML+PP', data=df_treino).fit()\n",
    "reg.summary()"
   ]
  },
  {
   "cell_type": "markdown",
   "metadata": {},
   "source": [
    "Para o modelo de regressão linear, removemos os valores de EAL e SEN pois o valor de P destas variáveis era maior que 10%.\n",
    "Através do modelo podemos assumir que o nível do aluno com base nas notas anteriores (HML) é um fator forte na média do aluno. Também é possível assumir que o PP (Pupil Premium: se o aluno fez doação para a escola) demonstra ser um fator negativo à média do aluno."
   ]
  },
  {
   "cell_type": "code",
   "execution_count": 33,
   "metadata": {},
   "outputs": [],
   "source": [
    "# fazendo a predição\n",
    "predicao = reg.predict(df_teste)"
   ]
  },
  {
   "cell_type": "code",
   "execution_count": 34,
   "metadata": {},
   "outputs": [
    {
     "data": {
      "text/plain": [
       "[<matplotlib.lines.Line2D at 0x2233304ed30>]"
      ]
     },
     "execution_count": 34,
     "metadata": {},
     "output_type": "execute_result"
    },
    {
     "data": {
      "image/png": "[encoded data removed]",
      "text/plain": [
       "<Figure size 432x288 with 1 Axes>"
      ]
     },
     "metadata": {
      "needs_background": "light"
     },
     "output_type": "display_data"
    }
   ],
   "source": [
    "# plotando o gráfico\n",
    "plt.scatter(predicao, df_teste['AVG'])\n",
    "\n",
    "z = np.polyfit(predicao, df_teste['AVG'], 1)\n",
    "p = np.poly1d(z)\n",
    "plt.plot(predicao,p(predicao),\"r\")"
   ]
  },
  {
   "cell_type": "markdown",
   "metadata": {},
   "source": [
    "Como podemos ver, a linha de tendência do gráfico de dispersão indica que os valores da predição e os valores verdadeiros são bem aproximados. "
   ]
  },
  {
   "cell_type": "code",
   "execution_count": 35,
   "metadata": {},
   "outputs": [
    {
     "data": {
      "text/plain": [
       "0.2425148294154462"
      ]
     },
     "execution_count": 35,
     "metadata": {},
     "output_type": "execute_result"
    }
   ],
   "source": [
    "mean_squared_error(df_teste['AVG'], predicao)"
   ]
  },
  {
   "cell_type": "markdown",
   "metadata": {},
   "source": [
    "O 'mean squared error' é aproximadamente 0.24, ou seja, os valores da previsão estão bem aproximados da linha de tendência, sugerindo que o modelo é válido."
   ]
  },
  {
   "cell_type": "markdown",
   "metadata": {},
   "source": [
    "#### Agora a faremos a random forest regression"
   ]
  },
  {
   "cell_type": "code",
   "execution_count": 39,
   "metadata": {},
   "outputs": [
    {
     "data": {
      "text/plain": [
       "[<matplotlib.lines.Line2D at 0x223342d73d0>]"
      ]
     },
     "execution_count": 39,
     "metadata": {},
     "output_type": "execute_result"
    },
    {
     "data": {
      "image/png": "[encoded data removed]",
      "text/plain": [
       "<Figure size 432x288 with 1 Axes>"
      ]
     },
     "metadata": {
      "needs_background": "light"
     },
     "output_type": "display_data"
    }
   ],
   "source": [
    "# Random forest regression\n",
    "random_forest.fit(df_treino['HML'].values.reshape(-1, 1), df_treino['AVG'])\n",
    "\n",
    "# fazendo a predição\n",
    "y_pred = random_forest.predict(df_teste['HML'].values.reshape(-1, 1))\n",
    "\n",
    "# plotando o gráfico\n",
    "plt.scatter(y_pred, df_teste['AVG'])\n",
    "\n",
    "z = np.polyfit(y_pred, df_teste['AVG'], 1)\n",
    "p = np.poly1d(z)\n",
    "plt.plot(y_pred,p(y_pred),\"r\")"
   ]
  },
  {
   "cell_type": "markdown",
   "metadata": {},
   "source": [
    "A linha de tendência do gráfico de dispersão é semelhante aquela do modelo de regressão linear, ou seja, também indica que a predição é válida"
   ]
  },
  {
   "cell_type": "markdown",
   "metadata": {},
   "source": [
    "## Conclusão"
   ]
  },
  {
   "cell_type": "markdown",
   "metadata": {},
   "source": [
    "### Portanto podemos concluir que sim, o desempenho nos anos anteriores dos alunos pode influenciar na sua atual média na escola."
   ]
  },
  {
   "cell_type": "markdown",
   "metadata": {},
   "source": [
    "#### Referências utilizadas no projeto\n",
    "\n",
    "https://www.geeksforgeeks.org/random-forest-regression-in-python/\n",
    "\n",
    "https://scikit-learn.org/stable/modules/generated/sklearn.metrics.mean_squared_error.html\n",
    "\n",
    "https://cnvrg.io/random-forest-regression/?gclid=Cj0KCQjw--GFBhDeARIsACH_kdYJjP4RW_mO1rzISJLmORL3K5mtvSG4FW0nA2Xnv15RjY_WKXnEk0caAnaSEALw_wcB\n",
    "\n",
    "https://scikit-learn.org/stable/modules/generated/sklearn.model_selection.train_test_split.html"
   ]
  }
 ],
 "metadata": {
  "kernelspec": {
   "display_name": "Python 3",
   "language": "python",
   "name": "python3"
  },
  "language_info": {
   "codemirror_mode": {
    "name": "ipython",
    "version": 3
   },
   "file_extension": ".py",
   "mimetype": "text/x-python",
   "name": "python",
   "nbconvert_exporter": "python",
   "pygments_lexer": "ipython3",
   "version": "3.8.3"
  }
 },
 "nbformat": 4,
 "nbformat_minor": 4
}
